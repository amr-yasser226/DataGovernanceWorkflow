{
 "cells": [
  {
   "cell_type": "code",
   "execution_count": 49,
   "id": "1747bc00",
   "metadata": {},
   "outputs": [],
   "source": [
    "import pandera as pa\n",
    "import pandas as pd\n",
    "from pandera import Column, DataFrameSchema, Check, Index\n",
    "from pandera.errors import SchemaErrors\n",
    "\n",
    "file_path = r\"C:\\ZC\\Data Governance\\DataGovernanceWorkflow\\data\\ssh_logs_processed.csv\"\n",
    "df = pd.read_csv(file_path)"
   ]
  },
  {
   "cell_type": "code",
   "execution_count": 50,
   "id": "794170c9",
   "metadata": {},
   "outputs": [
    {
     "name": "stdout",
     "output_type": "stream",
     "text": [
      "<class 'pandas.core.frame.DataFrame'>\n",
      "RangeIndex: 84379 entries, 0 to 84378\n",
      "Data columns (total 8 columns):\n",
      " #   Column    Non-Null Count  Dtype \n",
      "---  ------    --------------  ----- \n",
      " 0   Date      84379 non-null  object\n",
      " 1   Time      84379 non-null  object\n",
      " 2   IP        84379 non-null  object\n",
      " 3   Port      84379 non-null  int64 \n",
      " 4   Username  84374 non-null  object\n",
      " 5   Password  84232 non-null  object\n",
      " 6   Country   84379 non-null  object\n",
      " 7   City      84379 non-null  object\n",
      "dtypes: int64(1), object(7)\n",
      "memory usage: 5.2+ MB\n"
     ]
    }
   ],
   "source": [
    "df.info()"
   ]
  },
  {
   "cell_type": "code",
   "execution_count": 51,
   "id": "80aaf0d3",
   "metadata": {},
   "outputs": [
    {
     "data": {
      "application/vnd.microsoft.datawrangler.viewer.v0+json": {
       "columns": [
        {
         "name": "index",
         "rawType": "object",
         "type": "string"
        },
        {
         "name": "Date",
         "rawType": "object",
         "type": "unknown"
        },
        {
         "name": "Time",
         "rawType": "object",
         "type": "unknown"
        },
        {
         "name": "IP",
         "rawType": "object",
         "type": "unknown"
        },
        {
         "name": "Port",
         "rawType": "float64",
         "type": "float"
        },
        {
         "name": "Username",
         "rawType": "object",
         "type": "unknown"
        },
        {
         "name": "Password",
         "rawType": "object",
         "type": "unknown"
        },
        {
         "name": "Country",
         "rawType": "object",
         "type": "unknown"
        },
        {
         "name": "City",
         "rawType": "object",
         "type": "unknown"
        }
       ],
       "conversionMethod": "pd.DataFrame",
       "ref": "5346c890-0e61-4f93-a867-d7d57119c5c6",
       "rows": [
        [
         "count",
         "84379",
         "84379",
         "84379",
         "84379.0",
         "84374",
         "84232",
         "84379",
         "84379"
        ],
        [
         "unique",
         "9",
         "50909",
         "1423",
         null,
         "1138",
         "21944",
         "100",
         "609"
        ],
        [
         "top",
         "8/3/2024",
         "17:17:37",
         "192.3.251.75",
         null,
         "root",
         "123456",
         "Australia",
         "Sydney"
        ],
        [
         "freq",
         "19184",
         "44",
         "14575",
         null,
         "48886",
         "7055",
         "21322",
         "18816"
        ],
        [
         "mean",
         null,
         null,
         null,
         "46616.96360468837",
         null,
         null,
         null,
         null
        ],
        [
         "std",
         null,
         null,
         null,
         "9241.37526818212",
         null,
         null,
         null,
         null
        ],
        [
         "min",
         null,
         null,
         null,
         "1056.0",
         null,
         null,
         null,
         null
        ],
        [
         "25%",
         null,
         null,
         null,
         "39825.0",
         null,
         null,
         null,
         null
        ],
        [
         "50%",
         null,
         null,
         null,
         "47096.0",
         null,
         null,
         null,
         null
        ],
        [
         "75%",
         null,
         null,
         null,
         "54160.0",
         null,
         null,
         null,
         null
        ],
        [
         "max",
         null,
         null,
         null,
         "65534.0",
         null,
         null,
         null,
         null
        ]
       ],
       "shape": {
        "columns": 8,
        "rows": 11
       }
      },
      "text/html": [
       "<div>\n",
       "<style scoped>\n",
       "    .dataframe tbody tr th:only-of-type {\n",
       "        vertical-align: middle;\n",
       "    }\n",
       "\n",
       "    .dataframe tbody tr th {\n",
       "        vertical-align: top;\n",
       "    }\n",
       "\n",
       "    .dataframe thead th {\n",
       "        text-align: right;\n",
       "    }\n",
       "</style>\n",
       "<table border=\"1\" class=\"dataframe\">\n",
       "  <thead>\n",
       "    <tr style=\"text-align: right;\">\n",
       "      <th></th>\n",
       "      <th>Date</th>\n",
       "      <th>Time</th>\n",
       "      <th>IP</th>\n",
       "      <th>Port</th>\n",
       "      <th>Username</th>\n",
       "      <th>Password</th>\n",
       "      <th>Country</th>\n",
       "      <th>City</th>\n",
       "    </tr>\n",
       "  </thead>\n",
       "  <tbody>\n",
       "    <tr>\n",
       "      <th>count</th>\n",
       "      <td>84379</td>\n",
       "      <td>84379</td>\n",
       "      <td>84379</td>\n",
       "      <td>84379.000000</td>\n",
       "      <td>84374</td>\n",
       "      <td>84232</td>\n",
       "      <td>84379</td>\n",
       "      <td>84379</td>\n",
       "    </tr>\n",
       "    <tr>\n",
       "      <th>unique</th>\n",
       "      <td>9</td>\n",
       "      <td>50909</td>\n",
       "      <td>1423</td>\n",
       "      <td>NaN</td>\n",
       "      <td>1138</td>\n",
       "      <td>21944</td>\n",
       "      <td>100</td>\n",
       "      <td>609</td>\n",
       "    </tr>\n",
       "    <tr>\n",
       "      <th>top</th>\n",
       "      <td>8/3/2024</td>\n",
       "      <td>17:17:37</td>\n",
       "      <td>192.3.251.75</td>\n",
       "      <td>NaN</td>\n",
       "      <td>root</td>\n",
       "      <td>123456</td>\n",
       "      <td>Australia</td>\n",
       "      <td>Sydney</td>\n",
       "    </tr>\n",
       "    <tr>\n",
       "      <th>freq</th>\n",
       "      <td>19184</td>\n",
       "      <td>44</td>\n",
       "      <td>14575</td>\n",
       "      <td>NaN</td>\n",
       "      <td>48886</td>\n",
       "      <td>7055</td>\n",
       "      <td>21322</td>\n",
       "      <td>18816</td>\n",
       "    </tr>\n",
       "    <tr>\n",
       "      <th>mean</th>\n",
       "      <td>NaN</td>\n",
       "      <td>NaN</td>\n",
       "      <td>NaN</td>\n",
       "      <td>46616.963605</td>\n",
       "      <td>NaN</td>\n",
       "      <td>NaN</td>\n",
       "      <td>NaN</td>\n",
       "      <td>NaN</td>\n",
       "    </tr>\n",
       "    <tr>\n",
       "      <th>std</th>\n",
       "      <td>NaN</td>\n",
       "      <td>NaN</td>\n",
       "      <td>NaN</td>\n",
       "      <td>9241.375268</td>\n",
       "      <td>NaN</td>\n",
       "      <td>NaN</td>\n",
       "      <td>NaN</td>\n",
       "      <td>NaN</td>\n",
       "    </tr>\n",
       "    <tr>\n",
       "      <th>min</th>\n",
       "      <td>NaN</td>\n",
       "      <td>NaN</td>\n",
       "      <td>NaN</td>\n",
       "      <td>1056.000000</td>\n",
       "      <td>NaN</td>\n",
       "      <td>NaN</td>\n",
       "      <td>NaN</td>\n",
       "      <td>NaN</td>\n",
       "    </tr>\n",
       "    <tr>\n",
       "      <th>25%</th>\n",
       "      <td>NaN</td>\n",
       "      <td>NaN</td>\n",
       "      <td>NaN</td>\n",
       "      <td>39825.000000</td>\n",
       "      <td>NaN</td>\n",
       "      <td>NaN</td>\n",
       "      <td>NaN</td>\n",
       "      <td>NaN</td>\n",
       "    </tr>\n",
       "    <tr>\n",
       "      <th>50%</th>\n",
       "      <td>NaN</td>\n",
       "      <td>NaN</td>\n",
       "      <td>NaN</td>\n",
       "      <td>47096.000000</td>\n",
       "      <td>NaN</td>\n",
       "      <td>NaN</td>\n",
       "      <td>NaN</td>\n",
       "      <td>NaN</td>\n",
       "    </tr>\n",
       "    <tr>\n",
       "      <th>75%</th>\n",
       "      <td>NaN</td>\n",
       "      <td>NaN</td>\n",
       "      <td>NaN</td>\n",
       "      <td>54160.000000</td>\n",
       "      <td>NaN</td>\n",
       "      <td>NaN</td>\n",
       "      <td>NaN</td>\n",
       "      <td>NaN</td>\n",
       "    </tr>\n",
       "    <tr>\n",
       "      <th>max</th>\n",
       "      <td>NaN</td>\n",
       "      <td>NaN</td>\n",
       "      <td>NaN</td>\n",
       "      <td>65534.000000</td>\n",
       "      <td>NaN</td>\n",
       "      <td>NaN</td>\n",
       "      <td>NaN</td>\n",
       "      <td>NaN</td>\n",
       "    </tr>\n",
       "  </tbody>\n",
       "</table>\n",
       "</div>"
      ],
      "text/plain": [
       "            Date      Time            IP          Port Username Password  \\\n",
       "count      84379     84379         84379  84379.000000    84374    84232   \n",
       "unique         9     50909          1423           NaN     1138    21944   \n",
       "top     8/3/2024  17:17:37  192.3.251.75           NaN     root   123456   \n",
       "freq       19184        44         14575           NaN    48886     7055   \n",
       "mean         NaN       NaN           NaN  46616.963605      NaN      NaN   \n",
       "std          NaN       NaN           NaN   9241.375268      NaN      NaN   \n",
       "min          NaN       NaN           NaN   1056.000000      NaN      NaN   \n",
       "25%          NaN       NaN           NaN  39825.000000      NaN      NaN   \n",
       "50%          NaN       NaN           NaN  47096.000000      NaN      NaN   \n",
       "75%          NaN       NaN           NaN  54160.000000      NaN      NaN   \n",
       "max          NaN       NaN           NaN  65534.000000      NaN      NaN   \n",
       "\n",
       "          Country    City  \n",
       "count       84379   84379  \n",
       "unique        100     609  \n",
       "top     Australia  Sydney  \n",
       "freq        21322   18816  \n",
       "mean          NaN     NaN  \n",
       "std           NaN     NaN  \n",
       "min           NaN     NaN  \n",
       "25%           NaN     NaN  \n",
       "50%           NaN     NaN  \n",
       "75%           NaN     NaN  \n",
       "max           NaN     NaN  "
      ]
     },
     "execution_count": 51,
     "metadata": {},
     "output_type": "execute_result"
    }
   ],
   "source": [
    "df.describe(include='all')"
   ]
  },
  {
   "cell_type": "markdown",
   "id": "a840597a",
   "metadata": {},
   "source": [
    "Clean the Data"
   ]
  },
  {
   "cell_type": "code",
   "execution_count": 52,
   "id": "bfd727d8",
   "metadata": {},
   "outputs": [],
   "source": [
    "df.drop_duplicates(inplace=True)"
   ]
  },
  {
   "cell_type": "markdown",
   "id": "95c84814",
   "metadata": {},
   "source": [
    "Check for missing values"
   ]
  },
  {
   "cell_type": "code",
   "execution_count": 53,
   "id": "1f5bd7f5",
   "metadata": {},
   "outputs": [],
   "source": [
    "if df.isnull().sum().sum() > 0:\n",
    "    dtype_map = df.dtypes.to_dict()\n",
    "    num_cols = [col for col, dt in dtype_map.items() if pd.api.types.is_numeric_dtype(dt)]\n",
    "    cat_cols = [col for col, dt in dtype_map.items() if pd.api.types.is_object_dtype(dt)]\n",
    "\n",
    "    #fill num cols null with median \n",
    "    for col in num_cols:\n",
    "        median_val = df[col].median()\n",
    "        df[col] = df[col].fillna(median_val)\n",
    "\n",
    "    #fill categorical nulls with mode and normalized strings\n",
    "    for col in cat_cols:\n",
    "        if df[col].mode().empty:\n",
    "            df[col] = df[col].fillna('unknown')\n",
    "        else:\n",
    "            mode_val = df[col].mode()[0]\n",
    "            df[col] = df[col].fillna(mode_val)\n",
    "        df[col] = df[col].str.strip().str.lower()\n"
   ]
  },
  {
   "cell_type": "markdown",
   "id": "d9cde7b5",
   "metadata": {},
   "source": [
    "Handle outliers in numerical cols"
   ]
  },
  {
   "cell_type": "code",
   "execution_count": 54,
   "id": "aaa2ea4e",
   "metadata": {},
   "outputs": [],
   "source": [
    "for col in num_cols:\n",
    "    Q1 = df[col].quantile(0.25)\n",
    "    Q3 = df[col].quantile(0.75)\n",
    "    IQR = Q3 - Q1\n",
    "    lower_bound = Q1 - 1.5 * IQR\n",
    "    upper_bound = Q3 + 1.5 * IQR\n",
    "    # Remove outliers\n",
    "    df = df[(df[col] >= lower_bound) & (df[col] <= upper_bound)]"
   ]
  },
  {
   "cell_type": "code",
   "execution_count": 55,
   "id": "d103d1aa",
   "metadata": {},
   "outputs": [
    {
     "name": "stdout",
     "output_type": "stream",
     "text": [
      "Sample of cleaned dataset:\n",
      "        Date      Time               IP   Port   Username   Password  \\\n",
      "0  7/31/2024  20:22:06    85.209.11.227  29628      admin      admin   \n",
      "2  7/31/2024  20:34:43   146.70.121.173  31346       sshd          1   \n",
      "3  7/31/2024  20:48:15  181.176.161.157  51706        msf        msf   \n",
      "4  7/31/2024  20:48:21  181.176.161.157  63288        bom        bom   \n",
      "5  7/31/2024  20:48:27  181.176.161.157  62864  testuser1  testuser1   \n",
      "\n",
      "          Country       City  \n",
      "0          russia     moscow  \n",
      "2  united kingdom  stretford  \n",
      "3            peru     huaraz  \n",
      "4            peru     huaraz  \n",
      "5            peru     huaraz  \n"
     ]
    }
   ],
   "source": [
    "print(\"Sample of cleaned dataset:\")\n",
    "print(df.head())"
   ]
  },
  {
   "cell_type": "code",
   "execution_count": null,
   "id": "c8c8caa3",
   "metadata": {},
   "outputs": [
    {
     "name": "stdout",
     "output_type": "stream",
     "text": [
      "✅ Validation passed.\n",
      "            Date      Time               IP   Port   Username     Password  \\\n",
      "0     2024-07-31  20:22:06    85.209.11.227  29628      admin        admin   \n",
      "2     2024-07-31  20:34:43   146.70.121.173  31346       sshd            1   \n",
      "3     2024-07-31  20:48:15  181.176.161.157  51706        msf          msf   \n",
      "4     2024-07-31  20:48:21  181.176.161.157  63288        bom          bom   \n",
      "5     2024-07-31  20:48:27  181.176.161.157  62864  testuser1    testuser1   \n",
      "...          ...       ...              ...    ...        ...          ...   \n",
      "84374 2024-08-16  10:09:27  103.178.153.217  46594       root  asdfg!@#123   \n",
      "84375 2024-08-16  10:09:30     192.3.251.75  57320       root     11041987   \n",
      "84376 2024-08-16  10:09:34     192.3.251.75  57326       root       110389   \n",
      "84377 2024-08-16  10:09:35  103.178.153.217  43608       root       passwd   \n",
      "84378 2024-08-16  10:09:37     192.3.251.75  57334       root       110287   \n",
      "\n",
      "              Country       City  \n",
      "0              russia     moscow  \n",
      "2      united kingdom  stretford  \n",
      "3                peru     huaraz  \n",
      "4                peru     huaraz  \n",
      "5                peru     huaraz  \n",
      "...               ...        ...  \n",
      "84374       indonesia    jakarta  \n",
      "84375   united states    seattle  \n",
      "84376   united states    seattle  \n",
      "84377       indonesia    jakarta  \n",
      "84378   united states    seattle  \n",
      "\n",
      "[83487 rows x 8 columns]\n"
     ]
    }
   ],
   "source": [
    "schema = pa.DataFrameSchema(\n",
    "    {\n",
    "        \"Date\": Column(\n",
    "            pa.DateTime,\n",
    "            coerce=True,\n",
    "            nullable=True,\n",
    "        ),\n",
    "        \"Time\": Column(\n",
    "            pa.String,  \n",
    "            nullable=True,\n",
    "        ),\n",
    "        \"IP\": Column(\n",
    "            str,\n",
    "            nullable=True,\n",
    "            checks=Check.str_matches(\n",
    "                r\"^((25[0-5]|2[0-4]\\d|[01]?\\d\\d?)\\.){3}\"\n",
    "                r\"(25[0-5]|2[0-4]\\d|[01]?\\d\\d?)$\"\n",
    "            ),\n",
    "        ),\n",
    "        \"Port\": Column(\n",
    "            int,\n",
    "            nullable=True,\n",
    "            checks=Check.in_range(1, 65535),\n",
    "        ),\n",
    "        \"Username\": Column(\n",
    "            str,\n",
    "            nullable=True,\n",
    "            checks=Check.str_length(min_value=1),\n",
    "        ),\n",
    "        \"Password\": Column(\n",
    "            str,\n",
    "            nullable=True,\n",
    "            checks=Check.str_length(min_value=1), \n",
    "        ),\n",
    "        \"Country\": Column(\n",
    "            str,\n",
    "            nullable=True,\n",
    "            checks=Check.str_length(min_value=1),\n",
    "        ),\n",
    "        \"City\": Column(\n",
    "            str,\n",
    "            nullable=True,\n",
    "            checks=Check.str_length(min_value=1),\n",
    "        ),\n",
    "    }\n",
    ")\n",
    "\n",
    "try:\n",
    "    validated_df = schema.validate(df, lazy=True)\n",
    "    print(\"✅ Validation passed.\")\n",
    "    print(validated_df)\n",
    "except SchemaErrors as err:\n",
    "    print(\"❌ Validation failed. Issues found:\")\n",
    "    print(err.failure_cases)\n"
   ]
  }
 ],
 "metadata": {
  "kernelspec": {
   "display_name": "Python 3",
   "language": "python",
   "name": "python3"
  },
  "language_info": {
   "codemirror_mode": {
    "name": "ipython",
    "version": 3
   },
   "file_extension": ".py",
   "mimetype": "text/x-python",
   "name": "python",
   "nbconvert_exporter": "python",
   "pygments_lexer": "ipython3",
   "version": "3.12.10"
  }
 },
 "nbformat": 4,
 "nbformat_minor": 5
}
