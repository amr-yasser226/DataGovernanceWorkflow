{
 "cells": [
  {
   "cell_type": "code",
   "execution_count": 2,
   "metadata": {},
   "outputs": [
    {
     "name": "stderr",
     "output_type": "stream",
     "text": [
      "d:\\DownLoad\\projects\\Data Governance\\venv\\Lib\\site-packages\\tqdm\\auto.py:21: TqdmWarning: IProgress not found. Please update jupyter and ipywidgets. See https://ipywidgets.readthedocs.io/en/stable/user_install.html\n",
      "  from .autonotebook import tqdm as notebook_tqdm\n"
     ]
    },
    {
     "data": {
      "text/html": [
       "\n",
       "            <div>\n",
       "                <ins><a href=\"https://ydata.ai/register\">Upgrade to ydata-sdk</a></ins>\n",
       "                <p>\n",
       "                    Improve your data and profiling with ydata-sdk, featuring data quality scoring, redundancy detection, outlier identification, text validation, and synthetic data generation.\n",
       "                </p>\n",
       "            </div>\n",
       "            "
      ],
      "text/plain": [
       "<IPython.core.display.HTML object>"
      ]
     },
     "metadata": {},
     "output_type": "display_data"
    }
   ],
   "source": [
    "import pandas as pd \n",
    "from ydata_profiling import ProfileReport\n"
   ]
  },
  {
   "cell_type": "code",
   "execution_count": 5,
   "metadata": {},
   "outputs": [
    {
     "name": "stderr",
     "output_type": "stream",
     "text": [
      "<>:1: SyntaxWarning: invalid escape sequence '\\D'\n",
      "<>:5: SyntaxWarning: invalid escape sequence '\\D'\n",
      "<>:1: SyntaxWarning: invalid escape sequence '\\D'\n",
      "<>:5: SyntaxWarning: invalid escape sequence '\\D'\n",
      "C:\\Users\\Omar\\AppData\\Local\\Temp\\ipykernel_36060\\494733949.py:1: SyntaxWarning: invalid escape sequence '\\D'\n",
      "  path=\"D:\\DownLoad\\projects\\Data Governance\\data\\ssh_logs_processed.csv\"   #Input the path\n",
      "C:\\Users\\Omar\\AppData\\Local\\Temp\\ipykernel_36060\\494733949.py:5: SyntaxWarning: invalid escape sequence '\\D'\n",
      "  report.to_file(\"D:\\DownLoad\\projects\\Data Governance\\pofiling_data\\ssh_logs_process.html\")\n",
      "100%|██████████| 8/8 [00:08<00:00,  1.10s/it]09<00:11,  2.23s/it, Describe variable: City]\n",
      "Summarize dataset: 100%|██████████| 19/19 [00:10<00:00,  1.78it/s, Completed]                 \n",
      "Generate report structure: 100%|██████████| 1/1 [00:04<00:00,  4.34s/it]\n",
      "Render HTML: 100%|██████████| 1/1 [00:00<00:00,  3.83it/s]\n",
      "Export report to file: 100%|██████████| 1/1 [00:00<00:00, 166.03it/s]\n"
     ]
    }
   ],
   "source": [
    "path=\"D:\\DownLoad\\projects\\Data Governance\\data\\ssh_logs_processed.csv\"   #Input the path \n",
    "data=pd.read_csv(path)\n",
    "df=pd.DataFrame(data)\n",
    "report=ProfileReport(df,title=\"profile_Report\")\n",
    "report.to_file(\"D:\\DownLoad\\projects\\Data Governance\\pofiling_data\\ssh_logs_process.html\")\n",
    "\n"
   ]
  }
 ],
 "metadata": {
  "kernelspec": {
   "display_name": "venv",
   "language": "python",
   "name": "python3"
  },
  "language_info": {
   "codemirror_mode": {
    "name": "ipython",
    "version": 3
   },
   "file_extension": ".py",
   "mimetype": "text/x-python",
   "name": "python",
   "nbconvert_exporter": "python",
   "pygments_lexer": "ipython3",
   "version": "3.12.7"
  }
 },
 "nbformat": 4,
 "nbformat_minor": 2
}
